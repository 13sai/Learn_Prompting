{
 "cells": [
  {
   "cell_type": "code",
   "execution_count": null,
   "metadata": {},
   "outputs": [],
   "source": [
    "!pip install langchain==0.0.26\n",
    "!pip install openai\n",
    "from langchain.llms import OpenAI\n",
    "import os\n",
    "os.environ[\"OPENAI_API_KEY\"] = \"sk-YOUR_KEY_HERE\""
   ]
  },
  {
   "cell_type": "code",
   "execution_count": 9,
   "metadata": {},
   "outputs": [],
   "source": [
    "llm = OpenAI(model_name='text-davinci-002', temperature=0)"
   ]
  },
  {
   "cell_type": "code",
   "execution_count": 10,
   "metadata": {},
   "outputs": [],
   "source": [
    "MATH_PROMPT = '''\n",
    "Q: There were nine computers in the server room. Five more computers were installed each day, from monday to thursday. How many computers are now in the server room?\n",
    "\n",
    "# solution in Python:\n",
    "\"\"\"There were nine computers in the server room. Five more computers were installed each day, from monday to thursday. How many computers are now in the server room?\"\"\"\n",
    "computers_initial = 9\n",
    "computers_per_day = 5\n",
    "num_days = 4  # 4 days between monday and thursday\n",
    "computers_added = computers_per_day * num_days\n",
    "computers_total = computers_initial + computers_added\n",
    "result = computers_total\n",
    "return result\n",
    "\n",
    "\n",
    "Q: Shawn has five toys. For Christmas, he got two toys each from his mom and dad. How many toys does he have now?\n",
    "\n",
    "# solution in Python:\n",
    "\"\"\"Shawn has five toys. For Christmas, he got two toys each from his mom and dad. How many toys does he have now?\"\"\"\n",
    "toys_initial = 5\n",
    "mom_toys = 2\n",
    "dad_toys = 2\n",
    "total_received = mom_toys + dad_toys\n",
    "total_toys = toys_initial + total_received\n",
    "result = total_toys\n",
    "\n",
    "\n",
    "Q: Jason had 20 lollipops. He gave Denny some lollipops. Now Jason has 12 lollipops. How many lollipops did Jason give to Denny?\n",
    "\n",
    "# solution in Python:\n",
    "\"\"\"Jason had 20 lollipops. He gave Denny some lollipops. Now Jason has 12 lollipops. How many lollipops did Jason give to Denny?\"\"\"\n",
    "jason_lollipops_initial = 20\n",
    "jason_lollipops_after = 12\n",
    "denny_lollipops = jason_lollipops_initial - jason_lollipops_after\n",
    "result = denny_lollipops\n",
    "\n",
    "Q: {question}\n",
    "\n",
    "# solution in Python:\n",
    "'''"
   ]
  },
  {
   "cell_type": "code",
   "execution_count": 11,
   "metadata": {},
   "outputs": [],
   "source": [
    "question = \"\"\"Emma took a 60 minute plane ride to seattle. \n",
    "She then took a 2 hour train ride to portland, \n",
    "and then a 30 minute bus ride to vancouver. \n",
    "How long did it take her to get to vancouver?\"\"\""
   ]
  },
  {
   "cell_type": "code",
   "execution_count": 18,
   "metadata": {},
   "outputs": [
    {
     "name": "stdout",
     "output_type": "stream",
     "text": [
      "\"\"\"Emma took a 60 minute plane ride to seattle. She then took a 2 hour train ride to portland, and then a 30 minute bus ride to vancouver. How long did it take her to get to vancouver?\"\"\"\n",
      "plane_ride = 60\n",
      "train_ride = 2 * 60  # 2 hours in minutes\n",
      "bus_ride = 30\n",
      "total_time = plane_ride + train_ride + bus_ride\n",
      "result = total_time\n"
     ]
    }
   ],
   "source": [
    "llm_out = llm(MATH_PROMPT.format(question=question))\n",
    "print(llm_out)"
   ]
  },
  {
   "cell_type": "code",
   "execution_count": 17,
   "metadata": {},
   "outputs": [
    {
     "name": "stdout",
     "output_type": "stream",
     "text": [
      "210\n"
     ]
    }
   ],
   "source": [
    "exec(llm_out)\n",
    "print(result)"
   ]
  }
 ],
 "metadata": {
  "kernelspec": {
   "display_name": "Python 3.8.0 ('wmb')",
   "language": "python",
   "name": "python3"
  },
  "language_info": {
   "codemirror_mode": {
    "name": "ipython",
    "version": 3
   },
   "file_extension": ".py",
   "mimetype": "text/x-python",
   "name": "python",
   "nbconvert_exporter": "python",
   "pygments_lexer": "ipython3",
   "version": "3.8.0"
  },
  "orig_nbformat": 4,
  "vscode": {
   "interpreter": {
    "hash": "0bbc4eebeddf664acff84f2cec37ec3f59ad76830f67d162dc42dd45af18a4c2"
   }
  }
 },
 "nbformat": 4,
 "nbformat_minor": 2
}
